{
 "cells": [
  {
   "cell_type": "code",
   "execution_count": 1,
   "id": "464de27c",
   "metadata": {},
   "outputs": [],
   "source": [
    "# Import our dependencies\n",
    "import pandas as pd\n",
    "import matplotlib as plt\n",
    "from sklearn.datasets import make_blobs\n",
    "import sklearn as skl\n",
    "import tensorflow as tf"
   ]
  },
  {
   "cell_type": "code",
   "execution_count": 2,
   "id": "4b16e3ba",
   "metadata": {},
   "outputs": [
    {
     "data": {
      "text/plain": [
       "<AxesSubplot:xlabel='Feature 1', ylabel='Feature 2'>"
      ]
     },
     "execution_count": 2,
     "metadata": {},
     "output_type": "execute_result"
    },
    {
     "data": {
      "image/png": "[encoded data removed]",
      "text/plain": [
       "<Figure size 432x288 with 2 Axes>"
      ]
     },
     "metadata": {
      "needs_background": "light"
     },
     "output_type": "display_data"
    }
   ],
   "source": [
    "# Generate dummy dataset\n",
    "X, y = make_blobs(n_samples=1000, centers=2, n_features=2, random_state=78)\n",
    "\n",
    "# Creating a DataFrame with the dummy data\n",
    "df = pd.DataFrame(X, columns=[\"Feature 1\", \"Feature 2\"])\n",
    "df[\"Target\"] = y\n",
    "\n",
    "# Plotting the dummy data\n",
    "df.plot.scatter(x=\"Feature 1\", y=\"Feature 2\", c=\"Target\", colormap=\"winter\")"
   ]
  },
  {
   "cell_type": "code",
   "execution_count": 3,
   "id": "e7b1f1dd",
   "metadata": {},
   "outputs": [],
   "source": [
    "# Use sklearn to split dataset\n",
    "from sklearn.model_selection import train_test_split\n",
    "X_train, X_test, y_train, y_test = train_test_split(X, y, random_state=78)"
   ]
  },
  {
   "cell_type": "code",
   "execution_count": 4,
   "id": "6670e7d0",
   "metadata": {},
   "outputs": [],
   "source": [
    "# Create scaler instance\n",
    "X_scaler = skl.preprocessing.StandardScaler()\n",
    "\n",
    "# Fit the scaler\n",
    "X_scaler.fit(X_train)\n",
    "\n",
    "# Scale the data\n",
    "X_train_scaled = X_scaler.transform(X_train)\n",
    "X_test_scaled = X_scaler.transform(X_test)"
   ]
  },
  {
   "cell_type": "code",
   "execution_count": 5,
   "id": "342fccaf",
   "metadata": {},
   "outputs": [],
   "source": [
    "# Create the Keras Sequential model\n",
    "nn_model = tf.keras.models.Sequential()"
   ]
  },
  {
   "cell_type": "code",
   "execution_count": 6,
   "id": "18693924",
   "metadata": {},
   "outputs": [],
   "source": [
    "# Add our first Dense layer, including the input layer\n",
    "nn_model.add(tf.keras.layers.Dense(units=1, activation=\"relu\", input_dim=2))"
   ]
  },
  {
   "cell_type": "code",
   "execution_count": 7,
   "id": "9118cd41",
   "metadata": {},
   "outputs": [],
   "source": [
    "# Add the output layer that uses a probability activation function\n",
    "nn_model.add(tf.keras.layers.Dense(units=1, activation=\"sigmoid\"))"
   ]
  },
  {
   "cell_type": "code",
   "execution_count": 8,
   "id": "cc927d98",
   "metadata": {},
   "outputs": [
    {
     "name": "stdout",
     "output_type": "stream",
     "text": [
      "Model: \"sequential\"\n",
      "_________________________________________________________________\n",
      "Layer (type)                 Output Shape              Param #   \n",
      "=================================================================\n",
      "dense (Dense)                (None, 1)                 3         \n",
      "_________________________________________________________________\n",
      "dense_1 (Dense)              (None, 1)                 2         \n",
      "=================================================================\n",
      "Total params: 5\n",
      "Trainable params: 5\n",
      "Non-trainable params: 0\n",
      "_________________________________________________________________\n"
     ]
    }
   ],
   "source": [
    "# Check the structure of the Sequential model\n",
    "nn_model.summary()"
   ]
  },
  {
   "cell_type": "code",
   "execution_count": 9,
   "id": "8c651bbe",
   "metadata": {},
   "outputs": [],
   "source": [
    "# Compile the Sequential model together and customize metrics\n",
    "nn_model.compile(loss=\"binary_crossentropy\", optimizer=\"adam\", metrics=[\"accuracy\"])"
   ]
  },
  {
   "cell_type": "code",
   "execution_count": 10,
   "id": "298c2d24",
   "metadata": {},
   "outputs": [
    {
     "name": "stdout",
     "output_type": "stream",
     "text": [
      "Epoch 1/100\n",
      "24/24 [==============================] - 0s 968us/step - loss: 0.7098 - accuracy: 0.1733\n",
      "Epoch 2/100\n",
      "24/24 [==============================] - 0s 824us/step - loss: 0.7018 - accuracy: 0.0000e+00\n",
      "Epoch 3/100\n",
      "24/24 [==============================] - 0s 840us/step - loss: 0.6948 - accuracy: 0.2760\n",
      "Epoch 4/100\n",
      "24/24 [==============================] - 0s 842us/step - loss: 0.6884 - accuracy: 0.5067\n",
      "Epoch 5/100\n",
      "24/24 [==============================] - 0s 965us/step - loss: 0.6817 - accuracy: 0.5067\n",
      "Epoch 6/100\n",
      "24/24 [==============================] - 0s 964us/step - loss: 0.6739 - accuracy: 0.5067\n",
      "Epoch 7/100\n",
      "24/24 [==============================] - 0s 881us/step - loss: 0.6647 - accuracy: 0.5067\n",
      "Epoch 8/100\n",
      "24/24 [==============================] - 0s 787us/step - loss: 0.6539 - accuracy: 0.5067\n",
      "Epoch 9/100\n",
      "24/24 [==============================] - 0s 776us/step - loss: 0.6418 - accuracy: 0.6080\n",
      "Epoch 10/100\n",
      "24/24 [==============================] - 0s 847us/step - loss: 0.6283 - accuracy: 1.0000\n",
      "Epoch 11/100\n",
      "24/24 [==============================] - 0s 844us/step - loss: 0.6138 - accuracy: 1.0000\n",
      "Epoch 12/100\n",
      "24/24 [==============================] - 0s 837us/step - loss: 0.5984 - accuracy: 1.0000\n",
      "Epoch 13/100\n",
      "24/24 [==============================] - 0s 946us/step - loss: 0.5824 - accuracy: 1.0000\n",
      "Epoch 14/100\n",
      "24/24 [==============================] - 0s 867us/step - loss: 0.5659 - accuracy: 1.0000\n",
      "Epoch 15/100\n",
      "24/24 [==============================] - 0s 824us/step - loss: 0.5493 - accuracy: 1.0000\n",
      "Epoch 16/100\n",
      "24/24 [==============================] - 0s 928us/step - loss: 0.5325 - accuracy: 1.0000\n",
      "Epoch 17/100\n",
      "24/24 [==============================] - 0s 850us/step - loss: 0.5159 - accuracy: 1.0000\n",
      "Epoch 18/100\n",
      "24/24 [==============================] - 0s 779us/step - loss: 0.4994 - accuracy: 1.0000\n",
      "Epoch 19/100\n",
      "24/24 [==============================] - 0s 866us/step - loss: 0.4834 - accuracy: 1.0000\n",
      "Epoch 20/100\n",
      "24/24 [==============================] - 0s 823us/step - loss: 0.4676 - accuracy: 1.0000\n",
      "Epoch 21/100\n",
      "24/24 [==============================] - 0s 781us/step - loss: 0.4524 - accuracy: 1.0000\n",
      "Epoch 22/100\n",
      "24/24 [==============================] - 0s 867us/step - loss: 0.4376 - accuracy: 1.0000\n",
      "Epoch 23/100\n",
      "24/24 [==============================] - 0s 808us/step - loss: 0.4233 - accuracy: 1.0000\n",
      "Epoch 24/100\n",
      "24/24 [==============================] - 0s 832us/step - loss: 0.4095 - accuracy: 1.0000\n",
      "Epoch 25/100\n",
      "24/24 [==============================] - 0s 774us/step - loss: 0.3964 - accuracy: 1.0000\n",
      "Epoch 26/100\n",
      "24/24 [==============================] - 0s 801us/step - loss: 0.3838 - accuracy: 1.0000\n",
      "Epoch 27/100\n",
      "24/24 [==============================] - 0s 827us/step - loss: 0.3716 - accuracy: 1.0000\n",
      "Epoch 28/100\n",
      "24/24 [==============================] - 0s 893us/step - loss: 0.3601 - accuracy: 1.0000\n",
      "Epoch 29/100\n",
      "24/24 [==============================] - 0s 737us/step - loss: 0.3490 - accuracy: 1.0000\n",
      "Epoch 30/100\n",
      "24/24 [==============================] - 0s 866us/step - loss: 0.3384 - accuracy: 1.0000\n",
      "Epoch 31/100\n",
      "24/24 [==============================] - 0s 816us/step - loss: 0.3283 - accuracy: 1.0000\n",
      "Epoch 32/100\n",
      "24/24 [==============================] - 0s 888us/step - loss: 0.3187 - accuracy: 1.0000\n",
      "Epoch 33/100\n",
      "24/24 [==============================] - 0s 912us/step - loss: 0.3094 - accuracy: 1.0000\n",
      "Epoch 34/100\n",
      "24/24 [==============================] - 0s 780us/step - loss: 0.3006 - accuracy: 1.0000\n",
      "Epoch 35/100\n",
      "24/24 [==============================] - 0s 806us/step - loss: 0.2922 - accuracy: 1.0000\n",
      "Epoch 36/100\n",
      "24/24 [==============================] - 0s 867us/step - loss: 0.2841 - accuracy: 1.0000\n",
      "Epoch 37/100\n",
      "24/24 [==============================] - 0s 825us/step - loss: 0.2764 - accuracy: 1.0000\n",
      "Epoch 38/100\n",
      "24/24 [==============================] - 0s 766us/step - loss: 0.2690 - accuracy: 1.0000\n",
      "Epoch 39/100\n",
      "24/24 [==============================] - 0s 799us/step - loss: 0.2620 - accuracy: 1.0000\n",
      "Epoch 40/100\n",
      "24/24 [==============================] - 0s 834us/step - loss: 0.2552 - accuracy: 1.0000\n",
      "Epoch 41/100\n",
      "24/24 [==============================] - 0s 811us/step - loss: 0.2486 - accuracy: 1.0000\n",
      "Epoch 42/100\n",
      "24/24 [==============================] - 0s 847us/step - loss: 0.2424 - accuracy: 1.0000\n",
      "Epoch 43/100\n",
      "24/24 [==============================] - 0s 855us/step - loss: 0.2364 - accuracy: 1.0000\n",
      "Epoch 44/100\n",
      "24/24 [==============================] - 0s 867us/step - loss: 0.2306 - accuracy: 1.0000\n",
      "Epoch 45/100\n",
      "24/24 [==============================] - 0s 824us/step - loss: 0.2250 - accuracy: 1.0000\n",
      "Epoch 46/100\n",
      "24/24 [==============================] - 0s 782us/step - loss: 0.2196 - accuracy: 1.0000\n",
      "Epoch 47/100\n",
      "24/24 [==============================] - 0s 824us/step - loss: 0.2145 - accuracy: 1.0000\n",
      "Epoch 48/100\n",
      "24/24 [==============================] - 0s 868us/step - loss: 0.2095 - accuracy: 1.0000\n",
      "Epoch 49/100\n",
      "24/24 [==============================] - 0s 741us/step - loss: 0.2047 - accuracy: 1.0000\n",
      "Epoch 50/100\n",
      "24/24 [==============================] - 0s 871us/step - loss: 0.2000 - accuracy: 1.0000\n",
      "Epoch 51/100\n",
      "24/24 [==============================] - 0s 823us/step - loss: 0.1955 - accuracy: 1.0000\n",
      "Epoch 52/100\n",
      "24/24 [==============================] - 0s 867us/step - loss: 0.1912 - accuracy: 1.0000\n",
      "Epoch 53/100\n",
      "24/24 [==============================] - 0s 907us/step - loss: 0.1870 - accuracy: 1.0000\n",
      "Epoch 54/100\n",
      "24/24 [==============================] - 0s 824us/step - loss: 0.1829 - accuracy: 1.0000\n",
      "Epoch 55/100\n",
      "24/24 [==============================] - 0s 829us/step - loss: 0.1790 - accuracy: 1.0000\n",
      "Epoch 56/100\n",
      "24/24 [==============================] - 0s 782us/step - loss: 0.1752 - accuracy: 1.0000\n",
      "Epoch 57/100\n",
      "24/24 [==============================] - 0s 737us/step - loss: 0.1715 - accuracy: 1.0000\n",
      "Epoch 58/100\n",
      "24/24 [==============================] - 0s 786us/step - loss: 0.1679 - accuracy: 1.0000\n",
      "Epoch 59/100\n",
      "24/24 [==============================] - 0s 738us/step - loss: 0.1645 - accuracy: 1.0000\n",
      "Epoch 60/100\n",
      "24/24 [==============================] - 0s 781us/step - loss: 0.1611 - accuracy: 1.0000\n",
      "Epoch 61/100\n",
      "24/24 [==============================] - 0s 735us/step - loss: 0.1579 - accuracy: 1.0000\n",
      "Epoch 62/100\n",
      "24/24 [==============================] - 0s 756us/step - loss: 0.1548 - accuracy: 1.0000\n",
      "Epoch 63/100\n",
      "24/24 [==============================] - 0s 763us/step - loss: 0.1517 - accuracy: 1.0000\n",
      "Epoch 64/100\n",
      "24/24 [==============================] - 0s 764us/step - loss: 0.1487 - accuracy: 1.0000\n",
      "Epoch 65/100\n",
      "24/24 [==============================] - 0s 763us/step - loss: 0.1458 - accuracy: 1.0000\n",
      "Epoch 66/100\n",
      "24/24 [==============================] - 0s 770us/step - loss: 0.1430 - accuracy: 1.0000\n",
      "Epoch 67/100\n",
      "24/24 [==============================] - 0s 728us/step - loss: 0.1403 - accuracy: 1.0000\n",
      "Epoch 68/100\n",
      "24/24 [==============================] - 0s 746us/step - loss: 0.1376 - accuracy: 1.0000\n",
      "Epoch 69/100\n",
      "24/24 [==============================] - 0s 779us/step - loss: 0.1350 - accuracy: 1.0000\n",
      "Epoch 70/100\n",
      "24/24 [==============================] - 0s 823us/step - loss: 0.1325 - accuracy: 1.0000\n",
      "Epoch 71/100\n",
      "24/24 [==============================] - 0s 742us/step - loss: 0.1300 - accuracy: 1.0000\n",
      "Epoch 72/100\n",
      "24/24 [==============================] - 0s 694us/step - loss: 0.1276 - accuracy: 1.0000\n",
      "Epoch 73/100\n",
      "24/24 [==============================] - 0s 650us/step - loss: 0.1253 - accuracy: 1.0000\n",
      "Epoch 74/100\n",
      "24/24 [==============================] - 0s 743us/step - loss: 0.1230 - accuracy: 1.0000\n",
      "Epoch 75/100\n",
      "24/24 [==============================] - 0s 751us/step - loss: 0.1208 - accuracy: 1.0000\n",
      "Epoch 76/100\n",
      "24/24 [==============================] - 0s 804us/step - loss: 0.1186 - accuracy: 1.0000\n",
      "Epoch 77/100\n",
      "24/24 [==============================] - 0s 760us/step - loss: 0.1165 - accuracy: 1.0000\n",
      "Epoch 78/100\n",
      "24/24 [==============================] - 0s 781us/step - loss: 0.1145 - accuracy: 1.0000\n",
      "Epoch 79/100\n",
      "24/24 [==============================] - 0s 747us/step - loss: 0.1125 - accuracy: 1.0000\n",
      "Epoch 80/100\n",
      "24/24 [==============================] - 0s 783us/step - loss: 0.1105 - accuracy: 1.0000\n",
      "Epoch 81/100\n"
     ]
    },
    {
     "name": "stdout",
     "output_type": "stream",
     "text": [
      "24/24 [==============================] - 0s 769us/step - loss: 0.1086 - accuracy: 1.0000\n",
      "Epoch 82/100\n",
      "24/24 [==============================] - 0s 779us/step - loss: 0.1068 - accuracy: 1.0000\n",
      "Epoch 83/100\n",
      "24/24 [==============================] - 0s 782us/step - loss: 0.1049 - accuracy: 1.0000\n",
      "Epoch 84/100\n",
      "24/24 [==============================] - 0s 772us/step - loss: 0.1032 - accuracy: 1.0000\n",
      "Epoch 85/100\n",
      "24/24 [==============================] - 0s 760us/step - loss: 0.1014 - accuracy: 1.0000\n",
      "Epoch 86/100\n",
      "24/24 [==============================] - 0s 747us/step - loss: 0.0997 - accuracy: 1.0000\n",
      "Epoch 87/100\n",
      "24/24 [==============================] - 0s 822us/step - loss: 0.0981 - accuracy: 1.0000\n",
      "Epoch 88/100\n",
      "24/24 [==============================] - 0s 803us/step - loss: 0.0964 - accuracy: 1.0000\n",
      "Epoch 89/100\n",
      "24/24 [==============================] - 0s 758us/step - loss: 0.0948 - accuracy: 1.0000\n",
      "Epoch 90/100\n",
      "24/24 [==============================] - 0s 721us/step - loss: 0.0933 - accuracy: 1.0000\n",
      "Epoch 91/100\n",
      "24/24 [==============================] - 0s 737us/step - loss: 0.0918 - accuracy: 1.0000\n",
      "Epoch 92/100\n",
      "24/24 [==============================] - 0s 797us/step - loss: 0.0903 - accuracy: 1.0000\n",
      "Epoch 93/100\n",
      "24/24 [==============================] - 0s 825us/step - loss: 0.0888 - accuracy: 1.0000\n",
      "Epoch 94/100\n",
      "24/24 [==============================] - 0s 737us/step - loss: 0.0874 - accuracy: 1.0000\n",
      "Epoch 95/100\n",
      "24/24 [==============================] - 0s 766us/step - loss: 0.0860 - accuracy: 1.0000\n",
      "Epoch 96/100\n",
      "24/24 [==============================] - 0s 782us/step - loss: 0.0847 - accuracy: 1.0000\n",
      "Epoch 97/100\n",
      "24/24 [==============================] - 0s 782us/step - loss: 0.0833 - accuracy: 1.0000\n",
      "Epoch 98/100\n",
      "24/24 [==============================] - 0s 795us/step - loss: 0.0820 - accuracy: 1.0000\n",
      "Epoch 99/100\n",
      "24/24 [==============================] - 0s 746us/step - loss: 0.0807 - accuracy: 1.0000\n",
      "Epoch 100/100\n",
      "24/24 [==============================] - 0s 768us/step - loss: 0.0795 - accuracy: 1.0000\n"
     ]
    }
   ],
   "source": [
    "# Fit the model to the training data\n",
    "fit_model = nn_model.fit(X_train_scaled, y_train, epochs=100)"
   ]
  },
  {
   "cell_type": "code",
   "execution_count": 11,
   "id": "a38ad13f",
   "metadata": {},
   "outputs": [
    {
     "data": {
      "text/plain": [
       "<AxesSubplot:>"
      ]
     },
     "execution_count": 11,
     "metadata": {},
     "output_type": "execute_result"
    },
    {
     "data": {
      "image/png": "[encoded data removed]",
      "text/plain": [
       "<Figure size 432x288 with 1 Axes>"
      ]
     },
     "metadata": {
      "needs_background": "light"
     },
     "output_type": "display_data"
    }
   ],
   "source": [
    "# Create a DataFrame containing training history\n",
    "history_df = pd.DataFrame(fit_model.history, index=range(1,len(fit_model.history[\"loss\"])+1))\n",
    "\n",
    "# Plot the loss\n",
    "history_df.plot(y=\"loss\")"
   ]
  },
  {
   "cell_type": "code",
   "execution_count": 12,
   "id": "a4beb73f",
   "metadata": {},
   "outputs": [
    {
     "data": {
      "text/plain": [
       "<AxesSubplot:>"
      ]
     },
     "execution_count": 12,
     "metadata": {},
     "output_type": "execute_result"
    },
    {
     "data": {
      "image/png": "[encoded data removed]",
      "text/plain": [
       "<Figure size 432x288 with 1 Axes>"
      ]
     },
     "metadata": {
      "needs_background": "light"
     },
     "output_type": "display_data"
    }
   ],
   "source": [
    "# Plot the accuracy\n",
    "history_df.plot(y=\"accuracy\")"
   ]
  },
  {
   "cell_type": "code",
   "execution_count": 13,
   "id": "790ef47c",
   "metadata": {},
   "outputs": [
    {
     "name": "stdout",
     "output_type": "stream",
     "text": [
      "8/8 - 0s - loss: 0.0804 - accuracy: 1.0000\n",
      "Loss: 0.0803593173623085, Accuracy: 1.0\n"
     ]
    }
   ],
   "source": [
    "# Evaluate the model using the test data\n",
    "model_loss, model_accuracy = nn_model.evaluate(X_test_scaled,y_test,verbose=2)\n",
    "print(f\"Loss: {model_loss}, Accuracy: {model_accuracy}\")"
   ]
  },
  {
   "cell_type": "code",
   "execution_count": 14,
   "id": "57fa30d5",
   "metadata": {},
   "outputs": [
    {
     "data": {
      "text/plain": [
       "array([[0],\n",
       "       [1],\n",
       "       [0],\n",
       "       [1],\n",
       "       [0],\n",
       "       [0],\n",
       "       [1],\n",
       "       [1],\n",
       "       [1],\n",
       "       [0]])"
      ]
     },
     "execution_count": 14,
     "metadata": {},
     "output_type": "execute_result"
    }
   ],
   "source": [
    "# Predict the classification of a new set of blob data\n",
    "new_X, new_Y = make_blobs(n_samples=10, centers=2, n_features=2, random_state=78)\n",
    "new_X_scaled = X_scaler.transform(new_X)\n",
    "(nn_model.predict(new_X_scaled) > 0.5).astype(\"int32\")"
   ]
  },
  {
   "cell_type": "code",
   "execution_count": 15,
   "id": "86dcce98",
   "metadata": {},
   "outputs": [
    {
     "data": {
      "text/plain": [
       "<AxesSubplot:xlabel='Feature 1', ylabel='Feature 2'>"
      ]
     },
     "execution_count": 15,
     "metadata": {},
     "output_type": "execute_result"
    },
    {
     "data": {
      "image/png": "[encoded data removed]",
      "text/plain": [
       "<Figure size 432x288 with 2 Axes>"
      ]
     },
     "metadata": {
      "needs_background": "light"
     },
     "output_type": "display_data"
    }
   ],
   "source": [
    "from sklearn.datasets import make_moons\n",
    "\n",
    "# Creating dummy nonlinear data\n",
    "X_moons, y_moons = make_moons(n_samples=1000, noise=0.08, random_state=78)\n",
    "\n",
    "# Transforming y_moons to a vertical vector\n",
    "y_moons = y_moons.reshape(-1, 1)\n",
    "\n",
    "# Creating a DataFrame to plot the nonlinear dummy data\n",
    "df_moons = pd.DataFrame(X_moons, columns=[\"Feature 1\", \"Feature 2\"])\n",
    "df_moons[\"Target\"] = y_moons\n",
    "\n",
    "# Plot the nonlinear dummy data\n",
    "df_moons.plot.scatter(x=\"Feature 1\",y=\"Feature 2\", c=\"Target\",colormap=\"winter\")"
   ]
  },
  {
   "cell_type": "code",
   "execution_count": 16,
   "id": "79867661",
   "metadata": {},
   "outputs": [],
   "source": [
    "# Create training and testing sets\n",
    "X_moon_train, X_moon_test, y_moon_train, y_moon_test = train_test_split(\n",
    "    X_moons, y_moons, random_state=78\n",
    ")\n",
    "\n",
    "# Create the scaler instance\n",
    "X_moon_scaler = skl.preprocessing.StandardScaler()\n",
    "\n",
    "# Fit the scaler\n",
    "X_moon_scaler.fit(X_moon_train)\n",
    "\n",
    "# Scale the data\n",
    "X_moon_train_scaled = X_moon_scaler.transform(X_moon_train)\n",
    "X_moon_test_scaled = X_moon_scaler.transform(X_moon_test)"
   ]
  },
  {
   "cell_type": "code",
   "execution_count": 17,
   "id": "b818cf27",
   "metadata": {},
   "outputs": [
    {
     "name": "stdout",
     "output_type": "stream",
     "text": [
      "Epoch 1/100\n",
      "24/24 [==============================] - 0s 1ms/step - loss: 1.1342 - accuracy: 0.4493\n",
      "Epoch 2/100\n",
      "24/24 [==============================] - 0s 1ms/step - loss: 1.0338 - accuracy: 0.4600\n",
      "Epoch 3/100\n",
      "24/24 [==============================] - 0s 1ms/step - loss: 0.9603 - accuracy: 0.4760\n",
      "Epoch 4/100\n",
      "24/24 [==============================] - 0s 1ms/step - loss: 0.9114 - accuracy: 0.4827\n",
      "Epoch 5/100\n",
      "24/24 [==============================] - 0s 1ms/step - loss: 0.8747 - accuracy: 0.4880\n",
      "Epoch 6/100\n",
      "24/24 [==============================] - 0s 1ms/step - loss: 0.8443 - accuracy: 0.4987\n",
      "Epoch 7/100\n",
      "24/24 [==============================] - 0s 1ms/step - loss: 0.8203 - accuracy: 0.5067\n",
      "Epoch 8/100\n",
      "24/24 [==============================] - 0s 1ms/step - loss: 0.7992 - accuracy: 0.5107\n",
      "Epoch 9/100\n",
      "24/24 [==============================] - 0s 1ms/step - loss: 0.7808 - accuracy: 0.5173\n",
      "Epoch 10/100\n",
      "24/24 [==============================] - 0s 1ms/step - loss: 0.7645 - accuracy: 0.5240\n",
      "Epoch 11/100\n",
      "24/24 [==============================] - 0s 1ms/step - loss: 0.7497 - accuracy: 0.5320\n",
      "Epoch 12/100\n",
      "24/24 [==============================] - 0s 1ms/step - loss: 0.7369 - accuracy: 0.5387\n",
      "Epoch 13/100\n",
      "24/24 [==============================] - 0s 1ms/step - loss: 0.7246 - accuracy: 0.5480\n",
      "Epoch 14/100\n",
      "24/24 [==============================] - 0s 1ms/step - loss: 0.7134 - accuracy: 0.5587\n",
      "Epoch 15/100\n",
      "24/24 [==============================] - 0s 1ms/step - loss: 0.7028 - accuracy: 0.5667\n",
      "Epoch 16/100\n",
      "24/24 [==============================] - 0s 1ms/step - loss: 0.6930 - accuracy: 0.5720\n",
      "Epoch 17/100\n",
      "24/24 [==============================] - 0s 1ms/step - loss: 0.6837 - accuracy: 0.5747\n",
      "Epoch 18/100\n",
      "24/24 [==============================] - 0s 1ms/step - loss: 0.6748 - accuracy: 0.5773\n",
      "Epoch 19/100\n",
      "24/24 [==============================] - 0s 1ms/step - loss: 0.6661 - accuracy: 0.5813\n",
      "Epoch 20/100\n",
      "24/24 [==============================] - 0s 1ms/step - loss: 0.6583 - accuracy: 0.5867\n",
      "Epoch 21/100\n",
      "24/24 [==============================] - 0s 1ms/step - loss: 0.6506 - accuracy: 0.5920\n",
      "Epoch 22/100\n",
      "24/24 [==============================] - 0s 1ms/step - loss: 0.6435 - accuracy: 0.5920\n",
      "Epoch 23/100\n",
      "24/24 [==============================] - 0s 1ms/step - loss: 0.6366 - accuracy: 0.5973\n",
      "Epoch 24/100\n",
      "24/24 [==============================] - 0s 1ms/step - loss: 0.6301 - accuracy: 0.6013\n",
      "Epoch 25/100\n",
      "24/24 [==============================] - 0s 2ms/step - loss: 0.6239 - accuracy: 0.6013\n",
      "Epoch 26/100\n",
      "24/24 [==============================] - 0s 1ms/step - loss: 0.6178 - accuracy: 0.6053\n",
      "Epoch 27/100\n",
      "24/24 [==============================] - 0s 1ms/step - loss: 0.6118 - accuracy: 0.6133\n",
      "Epoch 28/100\n",
      "24/24 [==============================] - 0s 1ms/step - loss: 0.6060 - accuracy: 0.6200\n",
      "Epoch 29/100\n",
      "24/24 [==============================] - 0s 1ms/step - loss: 0.6006 - accuracy: 0.6253\n",
      "Epoch 30/100\n",
      "24/24 [==============================] - 0s 1ms/step - loss: 0.5953 - accuracy: 0.6267\n",
      "Epoch 31/100\n",
      "24/24 [==============================] - 0s 1ms/step - loss: 0.5899 - accuracy: 0.6307\n",
      "Epoch 32/100\n",
      "24/24 [==============================] - 0s 1ms/step - loss: 0.5848 - accuracy: 0.6360\n",
      "Epoch 33/100\n",
      "24/24 [==============================] - 0s 1ms/step - loss: 0.5799 - accuracy: 0.6360\n",
      "Epoch 34/100\n",
      "24/24 [==============================] - 0s 1ms/step - loss: 0.5747 - accuracy: 0.6427\n",
      "Epoch 35/100\n",
      "24/24 [==============================] - 0s 1ms/step - loss: 0.5699 - accuracy: 0.6453\n",
      "Epoch 36/100\n",
      "24/24 [==============================] - 0s 1ms/step - loss: 0.5652 - accuracy: 0.6480\n",
      "Epoch 37/100\n",
      "24/24 [==============================] - 0s 1ms/step - loss: 0.5604 - accuracy: 0.6507\n",
      "Epoch 38/100\n",
      "24/24 [==============================] - 0s 1ms/step - loss: 0.5560 - accuracy: 0.6547\n",
      "Epoch 39/100\n",
      "24/24 [==============================] - 0s 1ms/step - loss: 0.5515 - accuracy: 0.6573\n",
      "Epoch 40/100\n",
      "24/24 [==============================] - 0s 1ms/step - loss: 0.5472 - accuracy: 0.6600\n",
      "Epoch 41/100\n",
      "24/24 [==============================] - 0s 1ms/step - loss: 0.5431 - accuracy: 0.6613\n",
      "Epoch 42/100\n",
      "24/24 [==============================] - 0s 1ms/step - loss: 0.5389 - accuracy: 0.6627\n",
      "Epoch 43/100\n",
      "24/24 [==============================] - 0s 1ms/step - loss: 0.5348 - accuracy: 0.6693\n",
      "Epoch 44/100\n",
      "24/24 [==============================] - 0s 2ms/step - loss: 0.5308 - accuracy: 0.6747\n",
      "Epoch 45/100\n",
      "24/24 [==============================] - 0s 1ms/step - loss: 0.5267 - accuracy: 0.6773\n",
      "Epoch 46/100\n",
      "24/24 [==============================] - 0s 1ms/step - loss: 0.5228 - accuracy: 0.6787\n",
      "Epoch 47/100\n",
      "24/24 [==============================] - 0s 1ms/step - loss: 0.5189 - accuracy: 0.6827\n",
      "Epoch 48/100\n",
      "24/24 [==============================] - 0s 1ms/step - loss: 0.5151 - accuracy: 0.6853\n",
      "Epoch 49/100\n",
      "24/24 [==============================] - 0s 1ms/step - loss: 0.5113 - accuracy: 0.6920\n",
      "Epoch 50/100\n",
      "24/24 [==============================] - 0s 1ms/step - loss: 0.5076 - accuracy: 0.6933\n",
      "Epoch 51/100\n",
      "24/24 [==============================] - 0s 1ms/step - loss: 0.5040 - accuracy: 0.6933\n",
      "Epoch 52/100\n",
      "24/24 [==============================] - 0s 1ms/step - loss: 0.5004 - accuracy: 0.6973\n",
      "Epoch 53/100\n",
      "24/24 [==============================] - 0s 1ms/step - loss: 0.4968 - accuracy: 0.7013\n",
      "Epoch 54/100\n",
      "24/24 [==============================] - 0s 1ms/step - loss: 0.4935 - accuracy: 0.7013\n",
      "Epoch 55/100\n",
      "24/24 [==============================] - 0s 1ms/step - loss: 0.4897 - accuracy: 0.7027\n",
      "Epoch 56/100\n",
      "24/24 [==============================] - 0s 1ms/step - loss: 0.4861 - accuracy: 0.7080\n",
      "Epoch 57/100\n",
      "24/24 [==============================] - 0s 1ms/step - loss: 0.4826 - accuracy: 0.7093\n",
      "Epoch 58/100\n",
      "24/24 [==============================] - 0s 1ms/step - loss: 0.4791 - accuracy: 0.7133\n",
      "Epoch 59/100\n",
      "24/24 [==============================] - 0s 1ms/step - loss: 0.4757 - accuracy: 0.7160\n",
      "Epoch 60/100\n",
      "24/24 [==============================] - 0s 1ms/step - loss: 0.4722 - accuracy: 0.7187\n",
      "Epoch 61/100\n",
      "24/24 [==============================] - 0s 1ms/step - loss: 0.4687 - accuracy: 0.7240\n",
      "Epoch 62/100\n",
      "24/24 [==============================] - 0s 1ms/step - loss: 0.4653 - accuracy: 0.7267\n",
      "Epoch 63/100\n",
      "24/24 [==============================] - 0s 1ms/step - loss: 0.4619 - accuracy: 0.7307\n",
      "Epoch 64/100\n",
      "24/24 [==============================] - 0s 1ms/step - loss: 0.4585 - accuracy: 0.7320\n",
      "Epoch 65/100\n",
      "24/24 [==============================] - 0s 1ms/step - loss: 0.4550 - accuracy: 0.7333\n",
      "Epoch 66/100\n",
      "24/24 [==============================] - 0s 1ms/step - loss: 0.4516 - accuracy: 0.7427\n",
      "Epoch 67/100\n",
      "24/24 [==============================] - 0s 1ms/step - loss: 0.4481 - accuracy: 0.7467\n",
      "Epoch 68/100\n",
      "24/24 [==============================] - 0s 1ms/step - loss: 0.4447 - accuracy: 0.7493\n",
      "Epoch 69/100\n",
      "24/24 [==============================] - 0s 1ms/step - loss: 0.4413 - accuracy: 0.7493\n",
      "Epoch 70/100\n",
      "24/24 [==============================] - 0s 1ms/step - loss: 0.4378 - accuracy: 0.7520\n",
      "Epoch 71/100\n",
      "24/24 [==============================] - 0s 1ms/step - loss: 0.4345 - accuracy: 0.7587\n",
      "Epoch 72/100\n",
      "24/24 [==============================] - 0s 1ms/step - loss: 0.4311 - accuracy: 0.7587\n",
      "Epoch 73/100\n",
      "24/24 [==============================] - 0s 1ms/step - loss: 0.4276 - accuracy: 0.7600\n",
      "Epoch 74/100\n",
      "24/24 [==============================] - 0s 1ms/step - loss: 0.4243 - accuracy: 0.7600\n",
      "Epoch 75/100\n",
      "24/24 [==============================] - 0s 1ms/step - loss: 0.4209 - accuracy: 0.7613\n",
      "Epoch 76/100\n",
      "24/24 [==============================] - 0s 1ms/step - loss: 0.4174 - accuracy: 0.7653\n",
      "Epoch 77/100\n",
      "24/24 [==============================] - 0s 1ms/step - loss: 0.4141 - accuracy: 0.7707\n",
      "Epoch 78/100\n",
      "24/24 [==============================] - 0s 1ms/step - loss: 0.4106 - accuracy: 0.7720\n",
      "Epoch 79/100\n",
      "24/24 [==============================] - 0s 1ms/step - loss: 0.4072 - accuracy: 0.7773\n",
      "Epoch 80/100\n",
      "24/24 [==============================] - 0s 1ms/step - loss: 0.4039 - accuracy: 0.7813\n",
      "Epoch 81/100\n",
      "24/24 [==============================] - 0s 1ms/step - loss: 0.4005 - accuracy: 0.7827\n",
      "Epoch 82/100\n",
      "24/24 [==============================] - 0s 1ms/step - loss: 0.3972 - accuracy: 0.7920\n",
      "Epoch 83/100\n"
     ]
    },
    {
     "name": "stdout",
     "output_type": "stream",
     "text": [
      "24/24 [==============================] - 0s 1ms/step - loss: 0.3938 - accuracy: 0.7987\n",
      "Epoch 84/100\n",
      "24/24 [==============================] - 0s 1ms/step - loss: 0.3904 - accuracy: 0.8027\n",
      "Epoch 85/100\n",
      "24/24 [==============================] - 0s 1ms/step - loss: 0.3871 - accuracy: 0.8027\n",
      "Epoch 86/100\n",
      "24/24 [==============================] - 0s 1ms/step - loss: 0.3837 - accuracy: 0.8053\n",
      "Epoch 87/100\n",
      "24/24 [==============================] - 0s 1ms/step - loss: 0.3805 - accuracy: 0.8067\n",
      "Epoch 88/100\n",
      "24/24 [==============================] - 0s 1ms/step - loss: 0.3772 - accuracy: 0.8093\n",
      "Epoch 89/100\n",
      "24/24 [==============================] - 0s 1ms/step - loss: 0.3740 - accuracy: 0.8107\n",
      "Epoch 90/100\n",
      "24/24 [==============================] - 0s 1ms/step - loss: 0.3708 - accuracy: 0.8120\n",
      "Epoch 91/100\n",
      "24/24 [==============================] - 0s 1ms/step - loss: 0.3678 - accuracy: 0.8133\n",
      "Epoch 92/100\n",
      "24/24 [==============================] - 0s 1ms/step - loss: 0.3646 - accuracy: 0.8173\n",
      "Epoch 93/100\n",
      "24/24 [==============================] - 0s 1ms/step - loss: 0.3616 - accuracy: 0.8187\n",
      "Epoch 94/100\n",
      "24/24 [==============================] - 0s 1ms/step - loss: 0.3587 - accuracy: 0.8213\n",
      "Epoch 95/100\n",
      "24/24 [==============================] - 0s 1ms/step - loss: 0.3559 - accuracy: 0.8213\n",
      "Epoch 96/100\n",
      "24/24 [==============================] - 0s 1ms/step - loss: 0.3531 - accuracy: 0.8227\n",
      "Epoch 97/100\n",
      "24/24 [==============================] - 0s 1ms/step - loss: 0.3504 - accuracy: 0.8227\n",
      "Epoch 98/100\n",
      "24/24 [==============================] - 0s 1ms/step - loss: 0.3478 - accuracy: 0.8227\n",
      "Epoch 99/100\n",
      "24/24 [==============================] - 0s 1ms/step - loss: 0.3451 - accuracy: 0.8240\n",
      "Epoch 100/100\n",
      "24/24 [==============================] - 0s 1ms/step - loss: 0.3424 - accuracy: 0.8253\n"
     ]
    }
   ],
   "source": [
    "# Training the model with the nonlinear data\n",
    "model_moon = nn_model.fit(X_moon_train_scaled, y_moon_train, epochs=100, shuffle=True)"
   ]
  },
  {
   "cell_type": "code",
   "execution_count": 18,
   "id": "c7906385",
   "metadata": {},
   "outputs": [
    {
     "data": {
      "text/plain": [
       "<AxesSubplot:>"
      ]
     },
     "execution_count": 18,
     "metadata": {},
     "output_type": "execute_result"
    },
    {
     "data": {
      "image/png": "[encoded data removed]",
      "text/plain": [
       "<Figure size 432x288 with 1 Axes>"
      ]
     },
     "metadata": {
      "needs_background": "light"
     },
     "output_type": "display_data"
    }
   ],
   "source": [
    "# Create a DataFrame containing training history\n",
    "history_df = pd.DataFrame(model_moon.history, index=range(1,len(model_moon.history[\"loss\"])+1))\n",
    "\n",
    "# Plot the loss\n",
    "history_df.plot(y=\"loss\")"
   ]
  },
  {
   "cell_type": "code",
   "execution_count": 19,
   "id": "53e6d13a",
   "metadata": {},
   "outputs": [
    {
     "data": {
      "text/plain": [
       "<AxesSubplot:>"
      ]
     },
     "execution_count": 19,
     "metadata": {},
     "output_type": "execute_result"
    },
    {
     "data": {
      "image/png": "[encoded data removed]",
      "text/plain": [
       "<Figure size 432x288 with 1 Axes>"
      ]
     },
     "metadata": {
      "needs_background": "light"
     },
     "output_type": "display_data"
    }
   ],
   "source": [
    "# Plot the accuracy\n",
    "history_df.plot(y=\"accuracy\")"
   ]
  },
  {
   "cell_type": "code",
   "execution_count": 20,
   "id": "8a5ce62b",
   "metadata": {},
   "outputs": [],
   "source": [
    "# Generate our new Sequential model\n",
    "new_model = tf.keras.models.Sequential()"
   ]
  },
  {
   "cell_type": "code",
   "execution_count": 21,
   "id": "7ba82ef0",
   "metadata": {},
   "outputs": [],
   "source": [
    "# Add the input and hidden layer\n",
    "number_inputs = 2\n",
    "number_hidden_nodes = 6\n",
    "\n",
    "new_model.add(tf.keras.layers.Dense(units=number_hidden_nodes, activation=\"relu\", input_dim=number_inputs))\n",
    "\n",
    "# Add the output layer that uses a probability activation function\n",
    "new_model.add(tf.keras.layers.Dense(units=1, activation=\"sigmoid\"))"
   ]
  },
  {
   "cell_type": "code",
   "execution_count": 22,
   "id": "02404a04",
   "metadata": {},
   "outputs": [
    {
     "name": "stdout",
     "output_type": "stream",
     "text": [
      "Epoch 1/100\n",
      "24/24 [==============================] - 0s 954us/step - loss: 0.5440 - accuracy: 0.8093\n",
      "Epoch 2/100\n",
      "24/24 [==============================] - 0s 930us/step - loss: 0.5062 - accuracy: 0.8253\n",
      "Epoch 3/100\n",
      "24/24 [==============================] - 0s 912us/step - loss: 0.4739 - accuracy: 0.8347\n",
      "Epoch 4/100\n",
      "24/24 [==============================] - 0s 867us/step - loss: 0.4467 - accuracy: 0.8400\n",
      "Epoch 5/100\n",
      "24/24 [==============================] - 0s 890us/step - loss: 0.4225 - accuracy: 0.8520\n",
      "Epoch 6/100\n",
      "24/24 [==============================] - 0s 959us/step - loss: 0.4017 - accuracy: 0.8613\n",
      "Epoch 7/100\n",
      "24/24 [==============================] - 0s 850us/step - loss: 0.3835 - accuracy: 0.8680\n",
      "Epoch 8/100\n",
      "24/24 [==============================] - 0s 853us/step - loss: 0.3673 - accuracy: 0.8760\n",
      "Epoch 9/100\n",
      "24/24 [==============================] - 0s 886us/step - loss: 0.3530 - accuracy: 0.8800\n",
      "Epoch 10/100\n",
      "24/24 [==============================] - 0s 911us/step - loss: 0.3404 - accuracy: 0.8840\n",
      "Epoch 11/100\n",
      "24/24 [==============================] - 0s 908us/step - loss: 0.3293 - accuracy: 0.8840\n",
      "Epoch 12/100\n",
      "24/24 [==============================] - 0s 867us/step - loss: 0.3194 - accuracy: 0.8840\n",
      "Epoch 13/100\n",
      "24/24 [==============================] - 0s 867us/step - loss: 0.3107 - accuracy: 0.8853\n",
      "Epoch 14/100\n",
      "24/24 [==============================] - 0s 869us/step - loss: 0.3028 - accuracy: 0.8867\n",
      "Epoch 15/100\n",
      "24/24 [==============================] - 0s 970us/step - loss: 0.2961 - accuracy: 0.8867\n",
      "Epoch 16/100\n",
      "24/24 [==============================] - 0s 955us/step - loss: 0.2899 - accuracy: 0.8880\n",
      "Epoch 17/100\n",
      "24/24 [==============================] - 0s 860us/step - loss: 0.2840 - accuracy: 0.8867\n",
      "Epoch 18/100\n",
      "24/24 [==============================] - 0s 911us/step - loss: 0.2789 - accuracy: 0.8880\n",
      "Epoch 19/100\n",
      "24/24 [==============================] - 0s 867us/step - loss: 0.2742 - accuracy: 0.8893\n",
      "Epoch 20/100\n",
      "24/24 [==============================] - 0s 841us/step - loss: 0.2699 - accuracy: 0.8893\n",
      "Epoch 21/100\n",
      "24/24 [==============================] - 0s 912us/step - loss: 0.2662 - accuracy: 0.8880\n",
      "Epoch 22/100\n",
      "24/24 [==============================] - 0s 863us/step - loss: 0.2626 - accuracy: 0.8893\n",
      "Epoch 23/100\n",
      "24/24 [==============================] - 0s 862us/step - loss: 0.2595 - accuracy: 0.8893\n",
      "Epoch 24/100\n",
      "24/24 [==============================] - 0s 999us/step - loss: 0.2567 - accuracy: 0.8907\n",
      "Epoch 25/100\n",
      "24/24 [==============================] - 0s 867us/step - loss: 0.2541 - accuracy: 0.8907\n",
      "Epoch 26/100\n",
      "24/24 [==============================] - 0s 825us/step - loss: 0.2518 - accuracy: 0.8907\n",
      "Epoch 27/100\n",
      "24/24 [==============================] - 0s 912us/step - loss: 0.2496 - accuracy: 0.8933\n",
      "Epoch 28/100\n",
      "24/24 [==============================] - 0s 919us/step - loss: 0.2476 - accuracy: 0.8933\n",
      "Epoch 29/100\n",
      "24/24 [==============================] - 0s 913us/step - loss: 0.2458 - accuracy: 0.8933\n",
      "Epoch 30/100\n",
      "24/24 [==============================] - 0s 849us/step - loss: 0.2441 - accuracy: 0.8947\n",
      "Epoch 31/100\n",
      "24/24 [==============================] - 0s 870us/step - loss: 0.2424 - accuracy: 0.8947\n",
      "Epoch 32/100\n",
      "24/24 [==============================] - 0s 998us/step - loss: 0.2409 - accuracy: 0.8960\n",
      "Epoch 33/100\n",
      "24/24 [==============================] - 0s 862us/step - loss: 0.2395 - accuracy: 0.8960\n",
      "Epoch 34/100\n",
      "24/24 [==============================] - 0s 956us/step - loss: 0.2380 - accuracy: 0.8960\n",
      "Epoch 35/100\n",
      "24/24 [==============================] - 0s 911us/step - loss: 0.2367 - accuracy: 0.8947\n",
      "Epoch 36/100\n",
      "24/24 [==============================] - 0s 864us/step - loss: 0.2355 - accuracy: 0.8973\n",
      "Epoch 37/100\n",
      "24/24 [==============================] - 0s 910us/step - loss: 0.2342 - accuracy: 0.8973\n",
      "Epoch 38/100\n",
      "24/24 [==============================] - 0s 1ms/step - loss: 0.2331 - accuracy: 0.8960\n",
      "Epoch 39/100\n",
      "24/24 [==============================] - 0s 867us/step - loss: 0.2319 - accuracy: 0.8960\n",
      "Epoch 40/100\n",
      "24/24 [==============================] - 0s 911us/step - loss: 0.2308 - accuracy: 0.8973\n",
      "Epoch 41/100\n",
      "24/24 [==============================] - 0s 862us/step - loss: 0.2298 - accuracy: 0.8973\n",
      "Epoch 42/100\n",
      "24/24 [==============================] - 0s 917us/step - loss: 0.2286 - accuracy: 0.8973\n",
      "Epoch 43/100\n",
      "24/24 [==============================] - 0s 942us/step - loss: 0.2276 - accuracy: 0.8973\n",
      "Epoch 44/100\n",
      "24/24 [==============================] - 0s 821us/step - loss: 0.2265 - accuracy: 0.8973\n",
      "Epoch 45/100\n",
      "24/24 [==============================] - 0s 921us/step - loss: 0.2255 - accuracy: 0.8973\n",
      "Epoch 46/100\n",
      "24/24 [==============================] - 0s 911us/step - loss: 0.2245 - accuracy: 0.9000\n",
      "Epoch 47/100\n",
      "24/24 [==============================] - 0s 948us/step - loss: 0.2235 - accuracy: 0.9000\n",
      "Epoch 48/100\n",
      "24/24 [==============================] - 0s 868us/step - loss: 0.2224 - accuracy: 0.9013\n",
      "Epoch 49/100\n",
      "24/24 [==============================] - 0s 867us/step - loss: 0.2214 - accuracy: 0.9013\n",
      "Epoch 50/100\n",
      "24/24 [==============================] - 0s 904us/step - loss: 0.2204 - accuracy: 0.9027\n",
      "Epoch 51/100\n",
      "24/24 [==============================] - 0s 911us/step - loss: 0.2194 - accuracy: 0.9040\n",
      "Epoch 52/100\n",
      "24/24 [==============================] - 0s 781us/step - loss: 0.2183 - accuracy: 0.9040\n",
      "Epoch 53/100\n",
      "24/24 [==============================] - 0s 912us/step - loss: 0.2172 - accuracy: 0.9040\n",
      "Epoch 54/100\n",
      "24/24 [==============================] - 0s 912us/step - loss: 0.2162 - accuracy: 0.9040\n",
      "Epoch 55/100\n",
      "24/24 [==============================] - 0s 858us/step - loss: 0.2151 - accuracy: 0.9053\n",
      "Epoch 56/100\n",
      "24/24 [==============================] - 0s 845us/step - loss: 0.2139 - accuracy: 0.9067\n",
      "Epoch 57/100\n",
      "24/24 [==============================] - 0s 805us/step - loss: 0.2128 - accuracy: 0.9067\n",
      "Epoch 58/100\n",
      "24/24 [==============================] - 0s 836us/step - loss: 0.2118 - accuracy: 0.9080\n",
      "Epoch 59/100\n",
      "24/24 [==============================] - 0s 825us/step - loss: 0.2106 - accuracy: 0.9093\n",
      "Epoch 60/100\n",
      "24/24 [==============================] - 0s 824us/step - loss: 0.2095 - accuracy: 0.9093\n",
      "Epoch 61/100\n",
      "24/24 [==============================] - 0s 781us/step - loss: 0.2084 - accuracy: 0.9093\n",
      "Epoch 62/100\n",
      "24/24 [==============================] - 0s 820us/step - loss: 0.2074 - accuracy: 0.9093\n",
      "Epoch 63/100\n",
      "24/24 [==============================] - 0s 852us/step - loss: 0.2062 - accuracy: 0.9093\n",
      "Epoch 64/100\n",
      "24/24 [==============================] - 0s 867us/step - loss: 0.2050 - accuracy: 0.9093\n",
      "Epoch 65/100\n",
      "24/24 [==============================] - 0s 823us/step - loss: 0.2038 - accuracy: 0.9093\n",
      "Epoch 66/100\n",
      "24/24 [==============================] - 0s 783us/step - loss: 0.2027 - accuracy: 0.9093\n",
      "Epoch 67/100\n",
      "24/24 [==============================] - 0s 814us/step - loss: 0.2017 - accuracy: 0.9093\n",
      "Epoch 68/100\n",
      "24/24 [==============================] - 0s 824us/step - loss: 0.2003 - accuracy: 0.9107\n",
      "Epoch 69/100\n",
      "24/24 [==============================] - 0s 864us/step - loss: 0.1991 - accuracy: 0.9093\n",
      "Epoch 70/100\n",
      "24/24 [==============================] - 0s 839us/step - loss: 0.1979 - accuracy: 0.9107\n",
      "Epoch 71/100\n",
      "24/24 [==============================] - 0s 825us/step - loss: 0.1968 - accuracy: 0.9133\n",
      "Epoch 72/100\n",
      "24/24 [==============================] - 0s 825us/step - loss: 0.1956 - accuracy: 0.9133\n",
      "Epoch 73/100\n",
      "24/24 [==============================] - 0s 868us/step - loss: 0.1944 - accuracy: 0.9133\n",
      "Epoch 74/100\n",
      "24/24 [==============================] - 0s 824us/step - loss: 0.1932 - accuracy: 0.9133\n",
      "Epoch 75/100\n",
      "24/24 [==============================] - 0s 911us/step - loss: 0.1922 - accuracy: 0.9133\n",
      "Epoch 76/100\n",
      "24/24 [==============================] - 0s 868us/step - loss: 0.1908 - accuracy: 0.9147\n",
      "Epoch 77/100\n",
      "24/24 [==============================] - 0s 826us/step - loss: 0.1896 - accuracy: 0.9160\n",
      "Epoch 78/100\n",
      "24/24 [==============================] - 0s 824us/step - loss: 0.1884 - accuracy: 0.9173\n",
      "Epoch 79/100\n",
      "24/24 [==============================] - 0s 824us/step - loss: 0.1874 - accuracy: 0.9173\n",
      "Epoch 80/100\n",
      "24/24 [==============================] - 0s 783us/step - loss: 0.1861 - accuracy: 0.9173\n",
      "Epoch 81/100\n"
     ]
    },
    {
     "name": "stdout",
     "output_type": "stream",
     "text": [
      "24/24 [==============================] - 0s 824us/step - loss: 0.1848 - accuracy: 0.9173\n",
      "Epoch 82/100\n",
      "24/24 [==============================] - 0s 867us/step - loss: 0.1837 - accuracy: 0.9173\n",
      "Epoch 83/100\n",
      "24/24 [==============================] - 0s 812us/step - loss: 0.1824 - accuracy: 0.9200\n",
      "Epoch 84/100\n",
      "24/24 [==============================] - 0s 867us/step - loss: 0.1813 - accuracy: 0.9213\n",
      "Epoch 85/100\n",
      "24/24 [==============================] - 0s 867us/step - loss: 0.1800 - accuracy: 0.9200\n",
      "Epoch 86/100\n",
      "24/24 [==============================] - 0s 811us/step - loss: 0.1788 - accuracy: 0.9227\n",
      "Epoch 87/100\n",
      "24/24 [==============================] - 0s 891us/step - loss: 0.1775 - accuracy: 0.9240\n",
      "Epoch 88/100\n",
      "24/24 [==============================] - 0s 867us/step - loss: 0.1764 - accuracy: 0.9267\n",
      "Epoch 89/100\n",
      "24/24 [==============================] - 0s 843us/step - loss: 0.1751 - accuracy: 0.9267\n",
      "Epoch 90/100\n",
      "24/24 [==============================] - 0s 824us/step - loss: 0.1740 - accuracy: 0.9267\n",
      "Epoch 91/100\n",
      "24/24 [==============================] - 0s 819us/step - loss: 0.1728 - accuracy: 0.9267\n",
      "Epoch 92/100\n",
      "24/24 [==============================] - 0s 824us/step - loss: 0.1715 - accuracy: 0.9267\n",
      "Epoch 93/100\n",
      "24/24 [==============================] - 0s 839us/step - loss: 0.1702 - accuracy: 0.9267\n",
      "Epoch 94/100\n",
      "24/24 [==============================] - 0s 815us/step - loss: 0.1692 - accuracy: 0.9280\n",
      "Epoch 95/100\n",
      "24/24 [==============================] - 0s 825us/step - loss: 0.1677 - accuracy: 0.9280\n",
      "Epoch 96/100\n",
      "24/24 [==============================] - 0s 781us/step - loss: 0.1665 - accuracy: 0.9293\n",
      "Epoch 97/100\n",
      "24/24 [==============================] - 0s 841us/step - loss: 0.1655 - accuracy: 0.9293\n",
      "Epoch 98/100\n",
      "24/24 [==============================] - 0s 854us/step - loss: 0.1640 - accuracy: 0.9320\n",
      "Epoch 99/100\n",
      "24/24 [==============================] - 0s 839us/step - loss: 0.1627 - accuracy: 0.9320\n",
      "Epoch 100/100\n",
      "24/24 [==============================] - 0s 867us/step - loss: 0.1615 - accuracy: 0.9320\n"
     ]
    }
   ],
   "source": [
    "# Compile the Sequential model together and customize metrics\n",
    "new_model.compile(loss=\"binary_crossentropy\", optimizer=\"adam\", metrics=[\"accuracy\"])\n",
    "\n",
    "# Fit the model to the training data\n",
    "new_fit_model = new_model.fit(X_moon_train_scaled, y_moon_train, epochs=100, shuffle=True)"
   ]
  },
  {
   "cell_type": "code",
   "execution_count": null,
   "id": "7d34bff3",
   "metadata": {},
   "outputs": [],
   "source": []
  }
 ],
 "metadata": {
  "kernelspec": {
   "display_name": "mlenv",
   "language": "python",
   "name": "mlenv"
  },
  "language_info": {
   "codemirror_mode": {
    "name": "ipython",
    "version": 3
   },
   "file_extension": ".py",
   "mimetype": "text/x-python",
   "name": "python",
   "nbconvert_exporter": "python",
   "pygments_lexer": "ipython3",
   "version": "3.7.10"
  }
 },
 "nbformat": 4,
 "nbformat_minor": 5
}
